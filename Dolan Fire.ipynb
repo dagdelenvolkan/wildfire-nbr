{
 "cells": [
  {
   "cell_type": "code",
   "execution_count": 19,
   "metadata": {},
   "outputs": [],
   "source": [
    "import rasterio\n",
    "import numpy as np\n",
    "from rasterio.enums import Resampling\n",
    "import geopandas as gpd\n",
    "import json\n",
    "from rasterio.mask import mask\n",
    "from shapely.geometry import box"
   ]
  },
  {
   "cell_type": "code",
   "execution_count": 20,
   "metadata": {},
   "outputs": [],
   "source": [
    "#Pre widfire images     12 August 2020\n",
    "NIR_pre = rasterio.open('T10SFF_20200812T184921_B08_10m.jp2')\n",
    "SWIR_pre = rasterio.open('T10SFF_20200812T184921_B12_20m.jp2')\n",
    "\n",
    "#Post wildfire images   11 October 2020\n",
    "NIR_post = rasterio.open('T10SFF_20201011T185321_B0A_10m.jp2')\n",
    "SWIR_post = rasterio.open('T10SFF_20201011T185321_B12_20m.jp2')"
   ]
  },
  {
   "cell_type": "code",
   "execution_count": 21,
   "metadata": {},
   "outputs": [],
   "source": [
    "#Resample to apply arithmetic band operations\n",
    "def resample(NIR_band, SWIR_band, output_name ):\n",
    "    resample_factor = int(NIR_band.width / SWIR_band.width)\n",
    "    resampled_SWIR  = SWIR_band.read(out_shape=(SWIR_band.count,SWIR_band.height * resample_factor,\n",
    "                                          int(SWIR_band.width * resample_factor)),\n",
    "                                          resampling=Resampling.bilinear)\n",
    "    resampled_meta = SWIR_band.meta.copy()\n",
    "    resampled_meta.update({\"driver\": \"GTiff\",\n",
    "                        'height': resampled_SWIR.shape[1],\n",
    "                        'width': resampled_SWIR.shape[2],\n",
    "                        'transform': NIR_band.transform,\n",
    "                        'crs': SWIR_band.crs})\n",
    "    with rasterio.open(output_name, 'w', **resampled_meta) as clip:\n",
    "            clip.write(resampled_SWIR)\n",
    "            clip.close()"
   ]
  },
  {
   "cell_type": "code",
   "execution_count": 22,
   "metadata": {},
   "outputs": [],
   "source": [
    "#Call resample function with a proper parameters\n",
    "resample(NIR_pre, SWIR_pre, 'SWIR_pre_res.tif')\n",
    "resample(NIR_post, SWIR_post, 'SWIR_post_res.tif')"
   ]
  },
  {
   "cell_type": "code",
   "execution_count": 23,
   "metadata": {},
   "outputs": [],
   "source": [
    "#Clip function to select region of interest.\n",
    "def clip(inputFile, outputFile):\n",
    "    #Creating bounding box to clip ROI\n",
    "    boundFrame = gpd.GeoDataFrame({'geometry': box(620000,3990000, 650000 , 4010000)}, index=[0], crs=inputFile.crs)\n",
    "    jsonBox = [json.loads(boundFrame.to_json())['features'][0]['geometry']]\n",
    "    clipped, clipped_transform = mask(dataset=inputFile, shapes=jsonBox, crop=True)\n",
    "    clipped_meta = inputFile.meta.copy()\n",
    "    clipped_meta.update({\"driver\": \"GTiff\",\n",
    "                        'height': clipped.shape[1],\n",
    "                        'width': clipped.shape[2],\n",
    "                        'transform': clipped_transform,\n",
    "                        'crs': inputFile.crs})\n",
    "    \n",
    "    #save as tif\n",
    "    with rasterio.open(outputFile, 'w', **clipped_meta) as clip:\n",
    "        clip.write(clipped)\n",
    "        clip.close()"
   ]
  },
  {
   "cell_type": "code",
   "execution_count": 24,
   "metadata": {},
   "outputs": [],
   "source": [
    "#Call clip functions with a proper parameters.\n",
    "\n",
    "clip(NIR_pre, 'NIR_pre_clipped.tif')\n",
    "clip(rasterio.open('SWIR_pre_res.tif'), 'SWIR_pre_clipped.tif')\n",
    "\n",
    "clip(NIR_post, 'NIR_post_clipped.tif')\n",
    "clip(rasterio.open('SWIR_post_res.tif'), 'SWIR_post_clipped.tif')"
   ]
  },
  {
   "cell_type": "code",
   "execution_count": 25,
   "metadata": {},
   "outputs": [],
   "source": [
    "#Open pre wildfire clipped images\n",
    "NIR_clipped_pre = rasterio.open('NIR_pre_clipped.tif')\n",
    "SWIR_clipped_pre = rasterio.open('SWIR_pre_clipped.tif')\n",
    "\n",
    "#Open ppost wildfire clipped images\n",
    "NIR_clipped_post = rasterio.open('NIR_post_clipped.tif')\n",
    "SWIR_clipped_post = rasterio.open('SWIR_post_clipped.tif')"
   ]
  },
  {
   "cell_type": "code",
   "execution_count": 12,
   "metadata": {},
   "outputs": [],
   "source": [
    "#Numpy environment settings to apply arithmetic operations properly.\n",
    "np.seterr(divide='ignore', invalid='ignore')\n",
    "\n",
    "def NBR_Calc(NIR, SWIR, output):\n",
    "    #Calculating Normalized Burn Ratio Index\n",
    "    NBR = (NIR.read().astype(float) - SWIR.read().astype(float)) / (NIR.read() - SWIR.read())\n",
    "    meta = NIR.meta.copy()\n",
    "    meta.update(driver='GTiff')\n",
    "    meta.update(dtype=rasterio.float32)\n",
    "\n",
    "    with rasterio.open(output, 'w', **meta) as dst:\n",
    "        dst.write(NBR.astype(rasterio.float32))\n",
    "        dst.close()"
   ]
  },
  {
   "cell_type": "code",
   "execution_count": 13,
   "metadata": {},
   "outputs": [],
   "source": [
    "#Calling NBR_Calc function to calculate pre and post wildfire.\n",
    "NBR_Calc(NIR_clipped_pre, SWIR_clipped_pre, 'NBR_pre.tif')\n",
    "NBR_Calc(NIR_clipped_post, SWIR_clipped_post, 'NBR_post.tif')"
   ]
  },
  {
   "cell_type": "code",
   "execution_count": 15,
   "metadata": {},
   "outputs": [],
   "source": [
    "#Creating difference NBR values to detect how to change\n",
    "\n",
    "def dnbr(preNBR, postNBR):\n",
    "    dnbr = preNBR.read() - postNBR.read()\n",
    "    meta = preNBR.meta.copy()\n",
    "    meta.update(driver='GTiff')\n",
    "    meta.update(dtype=rasterio.float32)\n",
    "\n",
    "    with rasterio.open('dnbr.tif', 'w', **meta) as dst:\n",
    "        dst.write(dnbr.astype(rasterio.float32))\n",
    "        dst.close()"
   ]
  },
  {
   "cell_type": "code",
   "execution_count": 16,
   "metadata": {},
   "outputs": [],
   "source": [
    "#Open NBR images\n",
    "NBR_pre = rasterio.open('NBR_pre.tif')\n",
    "NBR_post = rasterio.open('NBR_post.tif')"
   ]
  },
  {
   "cell_type": "code",
   "execution_count": 17,
   "metadata": {},
   "outputs": [],
   "source": [
    "#Call dnbr function to calculate dnbr\n",
    "dnbr(NBR_pre, NBR_post)"
   ]
  },
  {
   "cell_type": "code",
   "execution_count": 18,
   "metadata": {},
   "outputs": [],
   "source": [
    "#open dnbr\n",
    "dnbr = rasterio.open('dnbr.tif')"
   ]
  },
  {
   "cell_type": "code",
   "execution_count": null,
   "metadata": {},
   "outputs": [],
   "source": []
  }
 ],
 "metadata": {
  "kernelspec": {
   "display_name": "Python 3.6.12 64-bit ('MaskRCNN': conda)",
   "language": "python",
   "name": "python361264bitmaskrcnnconda9742047ba339409f927c3d1655c5059e"
  },
  "language_info": {
   "codemirror_mode": {
    "name": "ipython",
    "version": 3
   },
   "file_extension": ".py",
   "mimetype": "text/x-python",
   "name": "python",
   "nbconvert_exporter": "python",
   "pygments_lexer": "ipython3",
   "version": "3.6.12"
  }
 },
 "nbformat": 4,
 "nbformat_minor": 4
}
