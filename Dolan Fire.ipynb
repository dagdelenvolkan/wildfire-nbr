{
 "cells": [
  {
   "cell_type": "code",
   "execution_count": 5,
   "metadata": {},
   "outputs": [],
   "source": [
    "import rasterio\n",
    "import numpy as np\n",
    "from rasterio.enums import Resampling"
   ]
  },
  {
   "cell_type": "code",
   "execution_count": 6,
   "metadata": {},
   "outputs": [],
   "source": [
    "#Pre widfire images     12 August 2020\n",
    "NIR_pre = rasterio.open('T10SFF_20200812T184921_B08_10m.jp2')\n",
    "SWIR_pre = rasterio.open('T10SFF_20200812T184921_B12_20m.jp2')\n",
    "\n",
    "#Post wildfire images   11 October 2020\n",
    "NIR_post = rasterio.open('T10SFF_20201011T185321_B08_10m.jp2')\n",
    "SWIR_post = rasterio.open('T10SFF_20201011T185321_B12_20m.jp2')"
   ]
  },
  {
   "cell_type": "code",
   "execution_count": 7,
   "metadata": {},
   "outputs": [],
   "source": [
    "#Resample to apply arithmetic band operations\n",
    "def resample(NIR_band, SWIR_band, output_name ):\n",
    "    resample_factor = int(NIR_band.width / SWIR_band.width)\n",
    "    resampled_SWIR  = SWIR_band.read(out_shape=(SWIR_band.count,SWIR_band.height * resample_factor,\n",
    "                                          int(SWIR_band.width * resample_factor)),\n",
    "                                          resampling=Resampling.bilinear)\n",
    "    resampled_meta = SWIR_band.meta.copy()\n",
    "    resampled_meta.update({\"driver\": \"GTiff\",\n",
    "                        'height': resampled_SWIR.shape[1],\n",
    "                        'width': resampled_SWIR.shape[2],\n",
    "                        'transform': NIR_band.transform,\n",
    "                        'crs': SWIR_band.crs})\n",
    "    with rasterio.open(output_name, 'w', **resampled_meta) as clip:\n",
    "            clip.write(resampled_SWIR)\n",
    "            clip.close()"
   ]
  },
  {
   "cell_type": "code",
   "execution_count": 8,
   "metadata": {},
   "outputs": [],
   "source": [
    "#Call resample function with a proper parameters\n",
    "resample(NIR_pre, SWIR_pre, 'SWIR_pre_res.tif')\n",
    "resample(NIR_post, SWIR_post, 'SWIR_post_res.tif')"
   ]
  },
  {
   "cell_type": "code",
   "execution_count": null,
   "metadata": {},
   "outputs": [],
   "source": []
  }
 ],
 "metadata": {
  "kernelspec": {
   "display_name": "Python 3.6.12 64-bit ('MaskRCNN': conda)",
   "language": "python",
   "name": "python361264bitmaskrcnnconda9742047ba339409f927c3d1655c5059e"
  },
  "language_info": {
   "codemirror_mode": {
    "name": "ipython",
    "version": 3
   },
   "file_extension": ".py",
   "mimetype": "text/x-python",
   "name": "python",
   "nbconvert_exporter": "python",
   "pygments_lexer": "ipython3",
   "version": "3.6.12"
  }
 },
 "nbformat": 4,
 "nbformat_minor": 4
}
